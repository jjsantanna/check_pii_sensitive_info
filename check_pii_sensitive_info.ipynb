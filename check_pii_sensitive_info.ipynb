{
 "cells": [
  {
   "cell_type": "markdown",
   "id": "e291407e",
   "metadata": {},
   "source": [
    "# Check Sensitive Information (ex Personal Identifying Information-PII)\n",
    "The goal of this jupyter notebook is to provide several functions to identify and extract \"sensitive information\" from an input text.\n",
    "\n",
    "## Table of Content\n",
    "* [General Sensitive Information](#general-pii) (based on regular expression--RegEx)\n",
    "  - Email address\n",
    "  - Phone number\n",
    "  - IPv4 address\n",
    "  - URL http/https\n",
    "  - Bitcoin wallet\n",
    "  - Money amount\n",
    "  - Cryptocurrency amount\n",
    "  - Creditcard number\n",
    "  - Passport number\n",
    "  - IBAN (bank) number\n",
    "* [Specific Sensitive Information](#specific-pii) (based on list of substring)\n",
    "* [Country Names](#countries)\n",
    "* [Dutch Cities](#duch-cities) \n",
    "* [Dutch Names](#duch-names) \n",
    "* [Typos](#typos) \n",
    "* [Defining check_everything()](#check-everything)\n",
    "* [Testing check_everything()](#testing-everything)\n",
    "* [Flask Application](#flask)\n"
   ]
  },
  {
   "cell_type": "markdown",
   "id": "f792440b",
   "metadata": {},
   "source": [
    "## General Sensitive Information (based on regex)  <a class=\"anchor\" id=\"general-pii\"></a>"
   ]
  },
  {
   "cell_type": "code",
   "execution_count": 1,
   "id": "b1716776",
   "metadata": {},
   "outputs": [],
   "source": [
    "pii_regexes = {\n",
    "    \"bank_iban\":r'\\b[A-Z]{2}\\s*\\d{2}\\s*(?:\\w{4}\\s*){2,7}\\w{1,4}\\b',\n",
    "    \"email_address\": r\"[a-zA-Z0-9+_.-]+@[a-zA-Z0-9.-]+[a-zA-Z0-9]\", \n",
    "    \"phone_number\":r\"(?:\\+?\\d{1,2}\\s?\\(?\\d{3}\\)?(?:[-.\\s]?\\d{3}){2})\",# r\"\\+?\\d{1,2}\\s?\\(?\\d{3}\\)?(?:[-.\\s]?\\d{3}){2}\",\n",
    "    \"ipv4\":r'([0-9]+\\.[0-9]+\\.[0-9]+\\.[0-9]+)',\n",
    "    \"url_http\":r'https?://\\S+|http?://\\S+',\n",
    "    \"bitcoin_wallet\": r'(^(bc1|[13])[a-zA-HJ-NP-Z0-9]{25,39}$)',\n",
    "    \"money_amount\": r\"(?:[\\d.,]+)\\s*(?:[$€£¥₣₽₩¢₹%\\₿])|(?:[$€£¥₣₽₩¢₹%\\₿])\\s*(?:[\\d.,]+)\",\n",
    "    \"cryptocurrency_amount\":r\"(BTC\\s*\\d+(?:\\.\\d+)?|ETH\\s*\\d+(?:\\.\\d+)?|LTC\\s*\\d+(?:\\.\\d+)?|XRP\\s*\\d+(?:\\.\\d+)?)\",\n",
    "    \"creditcard\": r\"\\b(?:\\d[ -]*?){13,16}\\b\",\n",
    "    \"passport\": r'\\b[A-Z0-9<]{6,20}\\b'\n",
    "}"
   ]
  },
  {
   "cell_type": "code",
   "execution_count": 2,
   "id": "9799138c",
   "metadata": {},
   "outputs": [],
   "source": [
    "import re\n",
    "\n",
    "def identify_pii(text):\n",
    "    pii_found = {}\n",
    "\n",
    "    for pii_type, regex in pii_regexes.items():\n",
    "        matches = re.findall(regex, text)\n",
    "        if matches:\n",
    "            pii_found[pii_type] = matches\n",
    "\n",
    "    return pii_found"
   ]
  },
  {
   "cell_type": "markdown",
   "id": "6478c3f6",
   "metadata": {},
   "source": [
    "## Specific Sensitive Information (based on a list of substrings) <a class=\"anchor\" id=\"specific-pii\"></a>"
   ]
  },
  {
   "cell_type": "code",
   "execution_count": 3,
   "id": "8ad9c166",
   "metadata": {},
   "outputs": [],
   "source": [
    "import re\n",
    "\n",
    "def words_with_substrings(text, substrings=None):\n",
    "    if not substrings:\n",
    "        return []\n",
    "\n",
    "    word_list = text.split()\n",
    "    matching_words = set()\n",
    "    for substring in substrings:\n",
    "        matching_words.update(word.rstrip('.') for word in word_list if re.findall(substring, word, re.IGNORECASE))\n",
    "    return list(matching_words)\n"
   ]
  },
  {
   "cell_type": "markdown",
   "id": "96ebcab5",
   "metadata": {},
   "source": [
    "## Countries Name <a class=\"anchor\" id=\"countries\"></a>"
   ]
  },
  {
   "cell_type": "code",
   "execution_count": 4,
   "id": "b2362779",
   "metadata": {},
   "outputs": [],
   "source": [
    "import re\n",
    "import pandas as pd\n",
    "\n",
    "def find_countries_in_text(text):\n",
    "    countries_table = pd.read_html('https://www.geonames.org/countries/')[1]\n",
    "    countries = list(countries_table['Country'])\n",
    "\n",
    "    all_names_pattern = r'\\b(?:{})\\b'.format('|'.join(map(re.escape, countries)))\n",
    "\n",
    "    found_countries = re.findall(all_names_pattern, text, re.IGNORECASE)\n",
    "\n",
    "    return found_countries"
   ]
  },
  {
   "cell_type": "markdown",
   "id": "05bb465a",
   "metadata": {},
   "source": [
    "## Dutch names (100.000) <a class=\"anchor\" id=\"dutch-names\"></a>"
   ]
  },
  {
   "cell_type": "code",
   "execution_count": 5,
   "id": "ce8cd902",
   "metadata": {},
   "outputs": [],
   "source": [
    "# !pip install faker\n",
    "from faker import Faker\n",
    "import re\n",
    "\n",
    "def find_dutch_names_in_text(text):\n",
    "    fake = Faker('nl_NL')\n",
    "    dutch_names = [fake.first_name() for _ in range(100000)]\n",
    "    \n",
    "    all_names_pattern = \"|\".join(dutch_names)\n",
    "    \n",
    "    # Add word boundaries to the pattern\n",
    "    pattern = r'\\b(' + all_names_pattern + r')\\b'\n",
    "\n",
    "    # Use the re.findall method to find all occurrences of the names in the text\n",
    "    found_names = re.findall(pattern, text, re.IGNORECASE)\n",
    "\n",
    "    return found_names"
   ]
  },
  {
   "cell_type": "markdown",
   "id": "24b7ae3f",
   "metadata": {},
   "source": [
    "## Dutch cities <a class=\"anchor\" id=\"dutch-cities\"></a>"
   ]
  },
  {
   "cell_type": "code",
   "execution_count": 6,
   "id": "e88e1114",
   "metadata": {},
   "outputs": [],
   "source": [
    "import re\n",
    "import pandas as pd\n",
    "\n",
    "def find_dutch_cities_in_text(text):\n",
    "    df = pd.read_csv('data/WoonplaatsenCodes.csv', sep=';') #https://datasets.cbs.nl/CSV/CBS/nl/85516NED\n",
    "\n",
    "    # Escape special characters in city names for accurate pattern matching\n",
    "    escaped_cities = [re.escape(city) for city in df['Title']]\n",
    "\n",
    "    # Create the pattern by joining the escaped city names\n",
    "    pattern = r'\\b(?:' + '|'.join(escaped_cities) + r')\\b'\n",
    "\n",
    "    # Use the re.findall method to find all occurrences of the names in the text\n",
    "    found_cities = re.findall(pattern, text, re.IGNORECASE)\n",
    "    \n",
    "    return found_cities"
   ]
  },
  {
   "cell_type": "markdown",
   "id": "1013cae5",
   "metadata": {},
   "source": [
    "## Dutch postcode"
   ]
  },
  {
   "cell_type": "code",
   "execution_count": 7,
   "id": "66794df6",
   "metadata": {},
   "outputs": [],
   "source": [
    "def find_dutch_postcodes(text):\n",
    "    pattern = r\"\\b\\d{4}\\s?[A-Z]{2}\\b\"\n",
    "    dutch_postcodes = re.findall(pattern, text)\n",
    "    return dutch_postcodes"
   ]
  },
  {
   "cell_type": "markdown",
   "id": "54a50f73",
   "metadata": {},
   "source": [
    "## Typos <a class=\"anchor\" id=\"typos\"></a>"
   ]
  },
  {
   "cell_type": "code",
   "execution_count": 8,
   "id": "b35b5ab8",
   "metadata": {},
   "outputs": [],
   "source": [
    "# !pip install pyspellchecker\n",
    "# from spellchecker import SpellChecker\n",
    "\n",
    "# def find_typos(text):\n",
    "#     spell = SpellChecker()\n",
    "#     words = text.split()\n",
    "\n",
    "#     misspelled = [word for word in words if not word[0].isdigit() and not spell.known([word.lower()])]\n",
    "    \n",
    "#     return misspelled"
   ]
  },
  {
   "cell_type": "markdown",
   "id": "31ea4647",
   "metadata": {},
   "source": [
    "# MERGING EVERYTHING <a class=\"anchor\" id=\"check-everything\"></a>"
   ]
  },
  {
   "cell_type": "code",
   "execution_count": 9,
   "id": "a3da8243",
   "metadata": {},
   "outputs": [],
   "source": [
    "def check_everything (text,substrings):\n",
    "    output_dic = identify_pii(text)\n",
    "    output_dic['sensitive_string'] = words_with_substrings(text, substrings)\n",
    "    output_dic['dutch_name']= find_dutch_names_in_text(text)\n",
    "    output_dic['country'] = find_countries_in_text(text)\n",
    "    output_dic['dutch_city'] = find_dutch_cities_in_text(text)\n",
    "    output_dic['dutch_postcode'] = find_dutch_postcodes(text)\n",
    "    \n",
    "    #     output_dic['typos']= find_typos(text)\n",
    "    \n",
    "    return output_dic"
   ]
  },
  {
   "cell_type": "markdown",
   "id": "71bf9c97",
   "metadata": {},
   "source": [
    "### Testing check_everything() <a class=\"anchor\" id=\"testing-everything\"></a>"
   ]
  },
  {
   "cell_type": "code",
   "execution_count": 10,
   "id": "582b29eb",
   "metadata": {},
   "outputs": [
    {
     "data": {
      "text/plain": [
       "{'bank_iban': ['GB29NWBK60161331926819'],\n",
       " 'email_address': ['jairsantanna@gmail.com'],\n",
       " 'phone_number': ['60161331926', '0642330000', '+31682500000'],\n",
       " 'ipv4': ['127.0.0.1', '192.168.0.1'],\n",
       " 'money_amount': ['€ 50'],\n",
       " 'cryptocurrency_amount': ['ETH 1'],\n",
       " 'creditcard': ['1234-5678-9012-3456'],\n",
       " 'passport': ['ABC12345XYZ', '7514AB', '0642330000', '31682500000', 'PLEASE'],\n",
       " 'sensitive_string': ['NorthWave'],\n",
       " 'dutch_name': ['Kim', 'Sjoerd'],\n",
       " 'country': ['Netherlands'],\n",
       " 'dutch_city': ['Utrecht'],\n",
       " 'dutch_postcode': ['7514AB']}"
      ]
     },
     "execution_count": 10,
     "metadata": {},
     "output_type": "execute_result"
    }
   ],
   "source": [
    "text = \"My email is jairsantanna@gmail.com. My passport number is ABC12345XYZ. I live at the happystraat 5, Utrecht, 7514AB Netherlands. Kim Cardoso and Sjoerd Santanna are working with me at NorthWave. My IP address is 127.0.0.1 and 192.168.0.1. Could you please send me € 50? My IBAN is GB29NWBK60161331926819. My credit card is 1234-5678-9012-3456. My phone number is 0642330000 and +31682500000. PLEASE SEND ME ETH 1.\"\n",
    "substrings = ['northwave']\n",
    "\n",
    "check_everything (text,substrings)"
   ]
  },
  {
   "cell_type": "markdown",
   "id": "569e2867",
   "metadata": {},
   "source": [
    "# Flask application"
   ]
  },
  {
   "cell_type": "code",
   "execution_count": 11,
   "id": "bd54c371",
   "metadata": {},
   "outputs": [
    {
     "name": "stdout",
     "output_type": "stream",
     "text": [
      " * Serving Flask app '__main__'\n",
      " * Debug mode: off\n"
     ]
    },
    {
     "name": "stderr",
     "output_type": "stream",
     "text": [
      "WARNING: This is a development server. Do not use it in a production deployment. Use a production WSGI server instead.\n",
      " * Running on http://127.0.0.1:5010\n",
      "Press CTRL+C to quit\n",
      "127.0.0.1 - - [14/Jul/2023 14:30:33] \"GET / HTTP/1.1\" 200 -\n",
      "127.0.0.1 - - [14/Jul/2023 14:30:33] \"GET /favicon.ico HTTP/1.1\" 404 -\n",
      "127.0.0.1 - - [14/Jul/2023 14:30:46] \"POST / HTTP/1.1\" 200 -\n",
      "127.0.0.1 - - [14/Jul/2023 14:30:46] \"GET /static/copy-icon.png HTTP/1.1\" 200 -\n",
      "127.0.0.1 - - [14/Jul/2023 14:31:19] \"GET / HTTP/1.1\" 200 -\n"
     ]
    }
   ],
   "source": [
    "import csv\n",
    "from flask import Flask, render_template, request\n",
    "\n",
    "app = Flask(__name__)\n",
    "\n",
    "def replace_highlighted_words(text, highlighted_words):\n",
    "    modified_text = text\n",
    "    for word_type, words in highlighted_words.items():\n",
    "        for word in words:\n",
    "            modified_text = modified_text.replace(word, f'{word_type.upper()}')\n",
    "    return modified_text\n",
    "\n",
    "\n",
    "@app.route('/', methods=['GET', 'POST'])\n",
    "def index():\n",
    "    if request.method == 'POST':\n",
    "        text = request.form['text']\n",
    "        sensitive_words = request.form['sensitive_words'].split(';')\n",
    "        highlighted_words = check_everything(text, sensitive_words)\n",
    "        highlighted_text = text\n",
    "        modified_text = replace_highlighted_words(text, highlighted_words)\n",
    "\n",
    "        for word_type, words in highlighted_words.items():\n",
    "            if word_type == 'dutch_name' or word_type == 'dutch_city' or word_type == 'dutch_postcode' or word_type == 'country':\n",
    "                for word in words:\n",
    "                    if word in highlighted_text:\n",
    "                        highlighted_text = highlighted_text.replace(\n",
    "                            word, f'<span style=\"background-color: magenta;\">{word}</span>'\n",
    "                        )\n",
    "            else:\n",
    "                for word in words:\n",
    "                    if word in highlighted_text:\n",
    "                        highlighted_text = highlighted_text.replace(\n",
    "                            word, f'<span style=\"background-color: red;\">{word}</span>'\n",
    "                        )\n",
    "\n",
    "        return render_template(\n",
    "            'index.html',\n",
    "            text=text,\n",
    "            highlighted_text=highlighted_text,\n",
    "            modified_text=modified_text,\n",
    "            sensitive_words=request.form['sensitive_words']  # Pass sensitive words back to the template\n",
    "        )\n",
    "\n",
    "    return render_template('index.html')\n",
    "\n",
    "\n",
    "if __name__ == '__main__':\n",
    "    app.run(port=5010)\n"
   ]
  },
  {
   "cell_type": "markdown",
   "id": "bb92d1e5",
   "metadata": {},
   "source": [
    "# TEST: \n",
    "\n",
    "# My email is jairsantanna@gmail.com. My passport number is ABC12345XYZ. I live at the happystraat 5, Utrecht, 7514AB Netherlands. Kim Cardoso and Sjoerd Santanna are working with me at NorthWave. My IP address is 127.0.0.1 and 192.168.0.1. Could you please send me € 50? My IBAN is GB29NWBK60161331926819. My credit card is 1234-5678-9012-3456. My phone number is 0642330000 and +31682500000. Could you please send me ETH 1?"
   ]
  }
 ],
 "metadata": {
  "kernelspec": {
   "display_name": "Python 3",
   "language": "python",
   "name": "python3"
  },
  "language_info": {
   "codemirror_mode": {
    "name": "ipython",
    "version": 3
   },
   "file_extension": ".py",
   "mimetype": "text/x-python",
   "name": "python",
   "nbconvert_exporter": "python",
   "pygments_lexer": "ipython3",
   "version": "3.9.16"
  }
 },
 "nbformat": 4,
 "nbformat_minor": 5
}
